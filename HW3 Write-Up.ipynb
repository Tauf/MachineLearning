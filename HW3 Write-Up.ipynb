{
 "cells": [
  {
   "cell_type": "markdown",
   "metadata": {},
   "source": [
    "# Introduction to Machine Learning\n",
    "# HW3\n",
    "### *Parsa Taleb*\n",
    "### *3032263716*"
   ]
  },
  {
   "cell_type": "markdown",
   "metadata": {},
   "source": [
    "I worked on this homework alone, and I certify that all solutions are entirely in my own words and that I have not looked at another student’s solutions. I have given credit to all external sources I consulted.”"
   ]
  },
  {
   "cell_type": "markdown",
   "metadata": {},
   "source": [
    "<div style=”page-break-after: always;”></div>"
   ]
  },
  {
   "cell_type": "markdown",
   "metadata": {},
   "source": [
    "# 1 Gaussian Classification"
   ]
  },
  {
   "cell_type": "markdown",
   "metadata": {},
   "source": [
    "### a)"
   ]
  },
  {
   "cell_type": "markdown",
   "metadata": {},
   "source": [
    "\\begin{array}\n",
    "\\\\ \\text { Let } P(x | C_{i}) \\sim \\mathcal{N}\\left(\\mu_{i}, \\sigma^{2}\\right) \\text { for a two-category, one-dimensional classification problem with classes } \\\\ C_{1} \\text { and } C_{2}, P\\left(C_{1}\\right)=1 / 2, \\text { and } \\mu_{2}>\\mu_{1} .\n",
    "\\\\ \\text{Gaussian Discriminant Analysis}\n",
    "\\\\ \\text{Fundamental assumption: each class comes from normal distribution (Gaussian).}\n",
    "\\\\ X \\sim \\mathcal{N}\\left(\\mu, \\sigma^{2}\\right) : P(x)=\\frac{1}{(\\sqrt{2 \\pi} \\sigma)^{d}} \\exp \\left(-\\frac{|x-\\mu|^{2}}{2 \\sigma^{2}}\\right)\n",
    "\\\\ \\mu \\& x=\\text { vectors; } \\sigma=\\text { scalar; } d=\\operatorname{dimension}\n",
    "\\\\ \\text { For each class } \\mathrm{C}, \\text { suppose we estimate mean } \\mu_{\\mathrm{C}}, \\text { variance } \\sigma_{\\mathrm{C}}^{2}, \\text { and prior } \\pi_{\\mathrm{C}}=P(Y=\\mathrm{C})\n",
    "\\\\ \\text { Given } x, \\text { Bayes decision rule } r^{*}(x) \\text { returns class } C \\text { that maximizes } P(X=x | Y=\\mathrm{C}) \\pi_{\\mathrm{C}}\n",
    "\\\\ \\ln \\omega \\text { is monotonically increasing for } \\omega>0, \\text { so it is equivalent to maximize }\n",
    "\\\\ Q_{\\mathrm{C}}(x)=\\ln \\left((\\sqrt{2 \\pi})^{d} P(x) \\pi_{\\mathrm{C}}\\right)=-\\frac{\\left|x-\\mu_{\\mathrm{C}}\\right|^{2}}{2 \\sigma_{\\mathrm{C}}^{2}}-d \\ln \\sigma_{\\mathrm{C}}+\\ln \\pi_{\\mathrm{C}}\n",
    "\\\\\n",
    "\\\\ \\text { Quadratic Discriminant Analysis (QDA) }\n",
    "\\\\ \\text { Suppose only } 2 \\text { classes } \\mathrm{C}, \\text { D. Then }\n",
    "\\\\ r^{*}(x)= \\begin{cases}\n",
    "C \\quad \\text { if } Q_{\\mathrm{C}}(x)-Q_{\\mathrm{D}}(x)>0 \\\\\n",
    "D \\text { otherwise }\n",
    "\\end{cases}\n",
    "\\\\ \\text { Decision fn is quadratic in } x \\text { . Bayes decision boundary is } Q_{\\mathrm{C}}(x)-Q_{\\mathrm{D}}(x)=0\n",
    "\\\\ \\text { To recover posterior probabilities in } 2 \\text { -class case, use Bayes: }\n",
    "\\\\ P(Y=\\mathrm{C} | X)=\\frac{P(X | Y=\\mathrm{C}) \\pi_{\\mathrm{C}}}{P(X | Y=\\mathrm{C}) \\pi_{\\mathrm{C}}+P(X | Y=\\mathrm{D}) \\pi_{\\mathrm{D}}}\n",
    "\\\\ e^{Q_{\\mathrm{C}}(x)}=(\\sqrt{2 \\pi})^{d} P(x) \\pi_{\\mathrm{C}} \\quad\\left[\\text { by definition of } Q_{\\mathrm{C}}\\right]\n",
    "\\\\ P(Y=\\mathrm{C} | X=x) \\quad=\\quad \\frac{e^{Q_{\\mathrm{C}}(x)}}{e^{Q_{\\mathrm{C}}(x)}+e^{Q_{\\mathrm{D}}(x)}}=\\frac{1}{1+e^{Q_{\\mathrm{D}}(x)-Q_{\\mathrm{C}}(x)}}\n",
    "\\\\ =\\quad s\\left(Q_{\\mathrm{C}}(x)-Q_{\\mathrm{D}}(x)\\right)\", \\quad \\text { where }\n",
    "\\\\ s(\\gamma)=\\frac{1}{1+e^{-\\gamma}}\n",
    "\\\\\n",
    "\\\\ \\text { Linear Discriminant Analysis (LDA) }\n",
    "\\\\ Q_{\\mathrm{C}}(x)-Q_{\\mathrm{D}}(x)=\\frac{\\left(\\mu_{\\mathrm{C}}-\\mu_{\\mathrm{D}}\\right) \\cdot x}{\\sigma^{2}}-\\frac{\\left|\\mu_{\\mathrm{C}}\\right|^{2}-\\left|\\mu_{\\mathrm{D}}\\right|^{2}}{2 \\sigma^{2}}+\\ln \\pi_{\\mathrm{C}}-\\ln \\pi_{\\mathrm{D}}\n",
    "\\\\ = wx  + \\alpha\n",
    "\\\\ \\text { We have a linear classifier. We choose } \\mathrm{C} \\text { that maximizes linear discriminant function. }\n",
    "\\\\ \\frac{\\mu_{\\mathrm{C}} \\cdot x}{\\sigma^{2}}-\\frac{\\left|\\mu_{\\mathrm{C}}\\right|^{2}}{2 \\sigma^{2}}+\\ln \\pi_{\\mathrm{C}}\n",
    "\\\\ \\text { In } 2 \\text { -class case: decision boundary is } w \\cdot x+\\alpha=0\n",
    "\\\\ \\text { Bayes posterior is } P(Y=\\mathrm{C} | X=x)=s(w \\cdot x+\\alpha)\n",
    "\\\\ \\text { If } \\pi_{\\mathrm{C}}=\\pi_{\\mathrm{D}}=\\frac{1}{2} \\Rightarrow\\left(\\mu_{\\mathrm{C}}-\\mu_{\\mathrm{D}}\\right) \\cdot x-\\left(\\mu_{\\mathrm{C}}-\\mu_{\\mathrm{D}}\\right) \\cdot\\left(\\frac{\\mu_{\\mathrm{C}}+\\mu_{\\mathrm{D}}}{2}\\right)=0\n",
    "\\\\ \\text { which is the centroid method. }\n",
    "\\end{array}"
   ]
  },
  {
   "cell_type": "markdown",
   "metadata": {},
   "source": [
    "### b)"
   ]
  },
  {
   "cell_type": "markdown",
   "metadata": {},
   "source": [
    "\\begin{array}\n",
    "\\\\ \\text { The Bayes error is the probability of misclassification: }\n",
    "\\\\ P_{e}=P\\left(\\left(\\text { misclassified as } C_{1}\\right) | C_{2}\\right) P\\left(C_{2}\\right)+P\\left(\\text { (misclassified as } C_{2}\\right) | C_{1} ) P\\left(C_{1}\\right)\n",
    "\\\\ X \\sim \\mathcal{N}\\left(\\mu, \\sigma^{2}\\right) : P(x)=\\frac{1}{(\\sqrt{2 \\pi} \\sigma)^{d}} \\exp \\left(-\\frac{|x-\\mu|^{2}}{2 \\sigma^{2}}\\right)\n",
    "\\\\ \\text { Let, by centroid method, } a=\\frac{\\mu_{2}-\\mu_{1}}{2 \\sigma} \\text{ and } d = 1\n",
    "\\\\ \\Rightarrow P_{e} = \\frac{1}{2} \\int_{-\\infty}^{a} P\\left(\\text { misclassified as } C_{1}\\right) | C_{2} )(x) dx + \\frac{1}{2} \\int_a^{\\infty} P\\left(\\text { misclassified as } C_{2}\\right) | C_{1} )(x) dx\n",
    "\\\\ \\text{Let } z = \\frac{|x-\\mu_c|}{\\sigma} \\rightarrow dz = \\frac{|dx|}{\\sigma} \\rightarrow dx = \\sigma dz\n",
    "\\\\ \\Rightarrow P_{e}=\\frac{1}{\\sqrt{2 \\pi}} \\int_{a}^{\\infty} e^{-z^{2} / 2} d z\n",
    "\\end{array}"
   ]
  },
  {
   "cell_type": "markdown",
   "metadata": {},
   "source": [
    "# 2 Isocontours of Normal Distributions"
   ]
  },
  {
   "cell_type": "markdown",
   "metadata": {},
   "source": [
    "### a)"
   ]
  },
  {
   "cell_type": "code",
   "execution_count": 20,
   "metadata": {},
   "outputs": [
    {
     "data": {
      "image/png": "[encoded data removed]",
      "text/plain": [
       "<Figure size 432x288 with 1 Axes>"
      ]
     },
     "metadata": {
      "needs_background": "light"
     },
     "output_type": "display_data"
    }
   ],
   "source": [
    "import numpy as np\n",
    "import matplotlib.pyplot as plt\n",
    "miu = [1,1]\n",
    "sigma = np.matrix('1 0; 0 2')\n",
    "x, y = np.random.multivariate_normal(miu, sigma, 100).T\n",
    "plt.plot(x, y, 'x')\n",
    "plt.axis('equal')\n",
    "plt.show()"
   ]
  },
  {
   "cell_type": "markdown",
   "metadata": {},
   "source": [
    "### b)"
   ]
  },
  {
   "cell_type": "code",
   "execution_count": 2,
   "metadata": {},
   "outputs": [
    {
     "data": {
      "image/png": "[encoded data removed]",
      "text/plain": [
       "<Figure size 432x288 with 1 Axes>"
      ]
     },
     "metadata": {
      "needs_background": "light"
     },
     "output_type": "display_data"
    }
   ],
   "source": [
    "miu = [-1,2]\n",
    "sigma = np.matrix('2 1; 1 3')\n",
    "x, y = np.random.multivariate_normal(miu, sigma, 100).T\n",
    "plt.plot(x, y, 'x')\n",
    "plt.axis('equal')\n",
    "plt.show()"
   ]
  },
  {
   "cell_type": "markdown",
   "metadata": {},
   "source": [
    "### c)"
   ]
  },
  {
   "cell_type": "code",
   "execution_count": 3,
   "metadata": {},
   "outputs": [
    {
     "data": {
      "image/png": "[encoded data removed]",
      "text/plain": [
       "<Figure size 432x288 with 1 Axes>"
      ]
     },
     "metadata": {
      "needs_background": "light"
     },
     "output_type": "display_data"
    }
   ],
   "source": [
    "miu1 = [0,2]\n",
    "miu2 = [2,0]\n",
    "sigma1 = np.matrix('2 1; 1 1')\n",
    "sigma2 = sigma1\n",
    "x1,y1 = np.random.multivariate_normal(miu1, sigma1, 100).T\n",
    "x2,y2 = np.random.multivariate_normal(miu2, sigma2, 100).T\n",
    "x3 = x1-x2\n",
    "y3 = y1-y2\n",
    "plt.plot(x3,y3, 'x')\n",
    "plt.axis('equal')\n",
    "plt.show()"
   ]
  },
  {
   "cell_type": "markdown",
   "metadata": {},
   "source": [
    "### d)"
   ]
  },
  {
   "cell_type": "code",
   "execution_count": 4,
   "metadata": {},
   "outputs": [
    {
     "data": {
      "image/png": "[encoded data removed]",
      "text/plain": [
       "<Figure size 432x288 with 1 Axes>"
      ]
     },
     "metadata": {
      "needs_background": "light"
     },
     "output_type": "display_data"
    }
   ],
   "source": [
    "miu1 = [0,2]\n",
    "miu2 = [2,0]\n",
    "sigma1 = np.matrix('2 1; 1 1')\n",
    "sigma2 = np.matrix('2 1; 1 3')\n",
    "x1,y1 = np.random.multivariate_normal(miu1, sigma1, 100).T\n",
    "x2,y2 = np.random.multivariate_normal(miu2, sigma2, 100).T\n",
    "x3 = x1-x2\n",
    "y3 = y1-y2\n",
    "plt.plot(x3,y3, 'x')\n",
    "plt.axis('equal')\n",
    "plt.show()"
   ]
  },
  {
   "cell_type": "markdown",
   "metadata": {},
   "source": [
    "### e)"
   ]
  },
  {
   "cell_type": "code",
   "execution_count": 5,
   "metadata": {},
   "outputs": [
    {
     "data": {
      "image/png": "[encoded data removed]",
      "text/plain": [
       "<Figure size 432x288 with 1 Axes>"
      ]
     },
     "metadata": {
      "needs_background": "light"
     },
     "output_type": "display_data"
    }
   ],
   "source": [
    "miu1 = [1,1]\n",
    "miu2 = [-1,-1]\n",
    "sigma1 = np.matrix('2 0; 0 1')\n",
    "sigma2 = np.matrix('2 1; 1 2')\n",
    "x1,y1 = np.random.multivariate_normal(miu1, sigma1, 100).T\n",
    "x2,y2 = np.random.multivariate_normal(miu2, sigma2, 100).T\n",
    "x3 = x1-x2\n",
    "y3 = y1-y2\n",
    "plt.plot(x3,y3, 'x')\n",
    "plt.axis('equal')\n",
    "plt.show()"
   ]
  },
  {
   "cell_type": "markdown",
   "metadata": {},
   "source": [
    "# 3 Eigenvectors of the Gaussian Covariance Matrix"
   ]
  },
  {
   "cell_type": "markdown",
   "metadata": {},
   "source": [
    "## (a)"
   ]
  },
  {
   "cell_type": "code",
   "execution_count": 6,
   "metadata": {},
   "outputs": [
    {
     "name": "stdout",
     "output_type": "stream",
     "text": [
      "The mean in R^2 of the sample is\n",
      "[3.71474997 6.13416372]\n"
     ]
    }
   ],
   "source": [
    "import numpy as np\n",
    "np.random.seed(10)\n",
    "#np.random.RandomState(10)\n",
    "X1= 3 + 9* np.random.randn(100,1)\n",
    "X2= 0.5*X1 + (4 + 4*np.random.randn(100,1))\n",
    "Z=[X1, X2]\n",
    "#print(X1.T)\n",
    "#print(len(Z))\n",
    "#print(np.shape(Z))\n",
    "Z = np.array(Z)[:,:,0]\n",
    "#print(np.shape(Z))\n",
    "mean_Z=np.array([np.mean(X1),np.mean(X2)])\n",
    "print('The mean in R^2 of the sample is')\n",
    "print(mean_Z)"
   ]
  },
  {
   "cell_type": "markdown",
   "metadata": {},
   "source": [
    "## (b)"
   ]
  },
  {
   "cell_type": "code",
   "execution_count": 7,
   "metadata": {
    "scrolled": true
   },
   "outputs": [
    {
     "name": "stdout",
     "output_type": "stream",
     "text": [
      "The 2x2 covariance Matrix of the sample is\n",
      "[[76.51352866 40.51160968]\n",
      " [40.51160968 37.07429541]]\n"
     ]
    }
   ],
   "source": [
    "cov_Z=np.cov(Z)\n",
    "print('The 2x2 covariance Matrix of the sample is')\n",
    "print(cov_Z)"
   ]
  },
  {
   "cell_type": "markdown",
   "metadata": {},
   "source": [
    "## (c)"
   ]
  },
  {
   "cell_type": "code",
   "execution_count": 8,
   "metadata": {
    "scrolled": true
   },
   "outputs": [
    {
     "name": "stdout",
     "output_type": "stream",
     "text": [
      "The eigenvectors of this covariance matrix are:\n",
      "[[ 0.84784076 -0.53025093]\n",
      " [ 0.53025093  0.84784076]]\n",
      "The eigenvalues of this covariance matrix are:\n",
      "[101.85003036  11.73779371]\n"
     ]
    }
   ],
   "source": [
    "from numpy import linalg as LA\n",
    "[eigv,eigvec]=LA.eig(cov_Z)\n",
    "print('The eigenvectors of this covariance matrix are:')\n",
    "print(eigvec)\n",
    "print('The eigenvalues of this covariance matrix are:')\n",
    "print(eigv)"
   ]
  },
  {
   "cell_type": "markdown",
   "metadata": {},
   "source": [
    "## (d)"
   ]
  },
  {
   "cell_type": "code",
   "execution_count": 9,
   "metadata": {
    "scrolled": true
   },
   "outputs": [
    {
     "data": {
      "image/png": "[encoded data removed]",
      "text/plain": [
       "<Figure size 432x288 with 1 Axes>"
      ]
     },
     "metadata": {
      "needs_background": "light"
     },
     "output_type": "display_data"
    }
   ],
   "source": [
    "#(i)\n",
    "plt.plot(X1, X2, '*')\n",
    "plt.xlim([-15, 15])\n",
    "plt.ylim([-15, 15])\n",
    "plt.xlabel('X1')\n",
    "plt.ylabel('X2')\n",
    "plt.title('All n=100 Data Points and Arrows Representing Both Covariance Eigenvectors')\n",
    "\n",
    "#(ii)\n",
    "n=mean_Z[0]+ eigv[0]*eigvec[0,:].T\n",
    "n2=mean_Z[1]+ eigv[1]*eigvec[1,:].T\n",
    "d=np.array([mean_Z,n]).T\n",
    "d2=np.array([mean_Z,n2]).T\n",
    "plt.plot(d[0,:],d[1,:],'b-')\n",
    "plt.plot(d2[0,:],d2[1,:],'r-')\n",
    "plt.show()"
   ]
  },
  {
   "cell_type": "markdown",
   "metadata": {},
   "source": [
    "## (e)"
   ]
  },
  {
   "cell_type": "code",
   "execution_count": 10,
   "metadata": {},
   "outputs": [
    {
     "data": {
      "image/png": "[encoded data removed]",
      "text/plain": [
       "<Figure size 432x288 with 1 Axes>"
      ]
     },
     "metadata": {
      "needs_background": "light"
     },
     "output_type": "display_data"
    }
   ],
   "source": [
    "U=np.array([eigvec[0,:], eigvec[1,:]])\n",
    "x_mu = np.array([(Z[0,:]-mean_Z[0]),(Z[1,:]-mean_Z[1])])\n",
    "UT = U.T\n",
    "x_rotated =np.dot(UT,x_mu)\n",
    "plt.plot(x_rotated[0,:],x_rotated[1,:],'*')\n",
    "plt.xlim([-15, 15])\n",
    "plt.ylim([-15, 15])\n",
    "plt.xlabel('X1')\n",
    "plt.ylabel('X2')\n",
    "plt.title('Rotated Data')\n",
    "plt.show()"
   ]
  },
  {
   "cell_type": "markdown",
   "metadata": {},
   "source": [
    "# 4 Classification"
   ]
  },
  {
   "cell_type": "markdown",
   "metadata": {},
   "source": [
    "## (a)"
   ]
  },
  {
   "cell_type": "markdown",
   "metadata": {},
   "source": [
    "### (1)"
   ]
  },
  {
   "cell_type": "markdown",
   "metadata": {},
   "source": [
    "\\begin{array}\n",
    "\\\\ L(r(x)=i, y=j)= \\begin{cases}\n",
    "0 & \\text { if } i=j \\quad i, j \\in\\{1, \\ldots, c\\} \\\\\n",
    "\\lambda_{r} & \\lambda_{r} \\text { if } i=c+1 \\\\\n",
    "\\lambda_{s} & \\text { otherwise,} \n",
    "\\end{cases}\n",
    "\\\\ \n",
    "\\\\ \\text { Let } r : \\mathbb{R}^{d} \\rightarrow\\{1, \\ldots, c+1\\} \\text { be a decision rule, we know this is a classification problem with}\n",
    "\\\\ \\text{classes labeled 1,...,c and an additional doubt category labeled c + 1.}\n",
    "\\\\ \\lambda_{r} \\leq \\lambda_{s}\n",
    "\\\\ \\lambda_{r} \\geq 0\n",
    "\\\\ \\lambda_{s} \\geq 0\n",
    "\\\\ i \\in\\{1,2, \\ldots, c+1\\}\n",
    "\\\\ \\text { Average risk to obtain the minimum risk by is choosing class } r(x) = i \\text{ such that: }\n",
    "\\\\ P(Y=i | x) \\geq P(Y=j | x) \\text { for all } j\n",
    "\\\\ \\rightarrow R(r(x)=i | x)=\\sum_{j=1}^{c} L(r(x)=i, y=j) P(Y=j | x)\n",
    "\\\\ \\quad \\quad = 0^{*} P\\left(r(X) = i | \\mathbf{x}\\right)+\\sum_{j=1, j !=i}^{c} \\lambda_{s} P\\left(Y = j | \\mathbf{x}\\right)\n",
    "\\\\ \\text{Here } \\lambda\\left(r(x) = i | y = j \\right) \\text { is the cost of choosing class } r(x) = i \\text { where the true} \\text { class is } y = j.\n",
    "\\\\ \\Rightarrow R\\left(r(x) = i | \\mathbf{x}\\right)=\\lambda_{s}\\left(1-P\\left(r(x) = i | \\mathbf{x}\\right)\\right)\n",
    "\\\\ \\text { If highest posterior class probability and the average risk is less than the cost of rejection, } \n",
    "\\\\ \\mathbf{x} \\text { is associated with the class } r(x) = i \\text{, the policy obtains the minimum risk when } \\lambda_{r} \\leq \\lambda_{s}\n",
    "\\\\ \\Rightarrow\\lambda_{s}\\left(1-P\\left(r(x) = i | \\mathbf{x}\\right)\\right) \\leq \\lambda_{r} \n",
    "\\\\ \\Rightarrow P\\left(r(x) = i | \\mathbf{x}\\right) \\geq 1-\\lambda_{r} / \\lambda_{s} \n",
    "\\end{array}"
   ]
  },
  {
   "cell_type": "markdown",
   "metadata": {},
   "source": [
    "### (2)"
   ]
  },
  {
   "cell_type": "markdown",
   "metadata": {},
   "source": [
    "\\begin{array}\n",
    "\\\\ \\text{Originally the additional doubt category corresponds to:}\n",
    "\\\\ L(r(x)=i=c+1, y=j)= \\lambda_r\n",
    "\\\\ \\text{with } \\lambda_{r} \\leq \\lambda_{s}\n",
    "\\\\ \\text {where } \\lambda_{r} \\geq 0 \\text { is the loss incurred for choosing doubt }\n",
    "\\\\ \\text{Choosing the doubt othrewise, for instance by setting }\n",
    "\\\\ \\lambda_r = \\lambda_s \\forall \\; i \\neq j \\quad \\& \\quad i, j \\in\\{1, \\ldots, c\\}\n",
    "\\\\\\text{ also obtains the minimum risk R, because the first term which is dependent of } \\lambda_r \n",
    "\\\\ \\text{becomes 0 and does not contribute to risk summation:}\n",
    "\\\\ \\Rightarrow P\\left(r(x) = i | \\mathbf{x}\\right) \\geq 0\n",
    "\\\\ \\Rightarrow R(r(x)=i+1 | x)=\\sum_{j=1}^{c} L(r(x)=i+1, y=j) P(Y=j | x)\n",
    "\\\\ \\quad \\quad \\quad = 0^{*} P\\left(r(X) = i = c+1 | \\mathbf{x}\\right)+\\sum_{j=1, j !=i}^{c} \\lambda_{s} P\\left(Y = j | \\mathbf{x}\\right)\n",
    "\\\\ \\quad \\quad \\quad = \\sum_{j=1, j !=(c+1)}^{c} \\lambda_{s} P\\left(Y = j | \\mathbf{x}\\right)\n",
    "\\end{array}"
   ]
  },
  {
   "cell_type": "markdown",
   "metadata": {},
   "source": [
    "## (b)"
   ]
  },
  {
   "cell_type": "markdown",
   "metadata": {},
   "source": [
    "\\begin{array}\n",
    "\\\\ \\text{If the value of } \\lambda_r \\text{ is zero, there will be essentially no doubt category and the loss functions becomes:}\n",
    "\\\\ L(r(x)=i, y=j)= \\begin{cases}\n",
    "0 \\quad [=\\lambda_{r}] & i \\in\\{1, \\ldots, c+1 \\} , j \\in\\{1, \\ldots, c\\} \\\\\n",
    "\\lambda_{s} & \\text { otherwise,} \n",
    "\\end{cases}\n",
    "\\\\ \\text{Hence, intuitevly, one would expect to observe 0-1 loss function like behavior}\n",
    "\\\\ \\text{If } \\lambda_r > \\lambda_s \\Rightarrow \\lambda_r = 0 > \\lambda_s \\Rightarrow \\lambda_s < 0\n",
    "\\\\ \\text{We end up with a negative loss function, which is counterintutive to the purpose}\n",
    "\\\\ text{of defining non-negative \"loss\" functions.}\n",
    "\\\\ \\text{Additionally, the risk R becomes summation of negative values, and thus R is negative, and negative risk does not make sense.}\n",
    "\\\\\n",
    "\\end{array}"
   ]
  },
  {
   "cell_type": "markdown",
   "metadata": {},
   "source": [
    "# 5 Maximum Likelihood Estimation"
   ]
  },
  {
   "cell_type": "markdown",
   "metadata": {},
   "source": [
    "## (a)"
   ]
  },
  {
   "cell_type": "markdown",
   "metadata": {},
   "source": [
    "\\begin{array}\n",
    "\\\\ \\text{Let } x_1,...,x_n \\in \\mathbb{R}^d \\text{ be n samples points drawn independently from a multivariate normal distribution } \\mathcal{N}(\\mu, \\Sigma)\n",
    "\\\\ \\sum = \\begin{bmatrix}\n",
    "\\sigma_1^2&\\quad.\\quad.\\quad.&.\\quad.\\quad.\\quad \\\\\n",
    "...&\\sigma_2^2&... \\\\\n",
    ".&.&. \\\\\n",
    ".&.&. \\\\\n",
    ".&.&. \\\\\n",
    "...&...&\\sigma_n^2\n",
    "\\end{bmatrix}\n",
    "\\\\ \\text { Likelihood of generating these points is }\n",
    "\\\\ \\mathcal{L}\\left(\\mu, \\sigma ; X_{1}, \\ldots, X_{n}\\right)=P\\left(X_{1}\\right) P\\left(X_{2}\\right) \\cdots P\\left(X_{n}\\right)\n",
    "\\\\ \\ell\\left(\\mu, \\sigma ; X_{1}, \\ldots, X_{n}\\right)=\\ln P\\left(X_{1}\\right)+\\ln P\\left(X_{2}\\right)+\\ldots+\\ln P\\left(X_{n}\\right)\n",
    "\\\\ =\\sum_{i=1}^{n}\\left(-\\frac{\\left|X_{i}-\\mu\\right|^{2}}{2 \\sigma^{2}}-d \\ln \\sqrt{2 \\pi}-d \\ln \\sigma\\right)\n",
    "\\\\ \\nabla_{\\mu} \\ell=0, \\frac{\\partial \\ell}{\\partial \\sigma}=0\n",
    "\\\\ \\nabla_{\\mu} \\ell=\\sum_{i=1}^{n} \\frac{X_{i}-\\mu}{\\sigma^{2}}=0 \\quad \\Rightarrow \\quad \\hat{\\mu}=\\frac{1}{n} \\sum_{i=1}^{n} X_{i}\n",
    "\\\\ \\frac{\\partial \\ell}{\\partial \\sigma}=\\sum_{i=1}^{n} \\frac{\\left|X_{i}-\\mu\\right|^{2}-d \\sigma^{2}}{\\sigma^{3}}=0 \\quad \\Rightarrow \\quad \\hat{\\sigma}_i^{2}=\\frac{1}{d n} \\sum_{i=1}^{n}\\left|X_{i}-\\mu\\right|^{2}\n",
    "\\\\ \\hat{\\sigma}_i^{2}=\\frac{1}{d n} \\sum_{\\mathrm{C}} \\sum_{\\left\\{i : y_{i}=\\mathrm{C}\\right\\}}\\left|X_{i}-\\hat{\\mu}_{\\mathrm{C}}\\right|^{2}\n",
    "\\\\ \\hat{\\Sigma}=\\frac{1}{n} \\sum_{i=1}^{n}\\left(X_{i}-\\mu\\right)\\left(X_{i}-\\mu\\right)^{\\top}\n",
    "\\\\ \\hat{\\Sigma}=\\frac{1}{n} \\sum_{i=1}^{n}\\left(X_{i}-\\hat{\\mu}\\right)\\left(X_{i}-\\hat{\\mu}\\right)^{\\top}\n",
    "\\\\ \\text{We can compute the upper quantities } \\hat{\\mu} \\text{ and } \\hat{\\sigma}_i \\text{ without knowing } \\sum \\text{ and } \\mu.\n",
    "\\end{array}"
   ]
  },
  {
   "cell_type": "markdown",
   "metadata": {},
   "source": [
    "## (b)"
   ]
  },
  {
   "cell_type": "markdown",
   "metadata": {},
   "source": [
    "\\begin{array}\n",
    "\\\\ \\text{Let's call this unknown mean } \\mu' = A \\mu\n",
    "\\\\ \\text{Because A is invertible and we know its value, } \n",
    "\\\\ \\rightarrow \\mu = A^{-1} \\mu' \n",
    "\\\\ \\text{We know the value of the positive-definite covariance matrix } \\sum \n",
    "\\\\ \\boldsymbol{\\mu} \\in \\mathbb{R}^{d} \\text { and positive-definite covariance matrix } \\boldsymbol{\\Sigma} \\in \\mathbb{R}^{d \\times d}, \\text { with density }\n",
    "\\\\ p(\\mathbf{x} ; \\boldsymbol{\\mu}, \\mathbf{\\Sigma})=\\frac{1}{\\sqrt{(2 \\pi)^{d} \\operatorname{det}(\\boldsymbol{\\Sigma})}} \\exp \\left(-\\frac{1}{2}(\\mathbf{x}-\\boldsymbol{\\mu})^{\\top} \\mathbf{\\Sigma}^{-1}(\\mathbf{x}-\\boldsymbol{\\mu})\\right)\n",
    "\\\\ \\text{Since } \\mathbf{\\Sigma} \\text { is by derivation a symmetric, and by given information a positive definite matrix, }\n",
    "\\\\ \\text{we can decompose it by the spectral theorem into }\n",
    "\\\\ \\boldsymbol{\\Sigma}=\\mathbf{V} \\boldsymbol{\\Lambda} \\mathbf{V}^{T}, \\text { where the columns of } \\mathbf{V} \\text { form an orthonormal basis in } \\mathbb{R}^{d}, \\text { and } \\mathbf{\\Lambda} \\text { is a diagonal matrix } \\text { with real, non-negative values. The entries of } \\Lambda \\text { dictate how elongated or  }\n",
    "\\\\ \\text {shrunk the distribution is along each direction. }\n",
    "\\\\ \\hat{\\Sigma}=\\frac{1}{n} \\sum_{i=1}^{n}\\left(X_{i}-\\mu'\\right)\\left(X_{i}-\\mu'\\right)^{\\top}\n",
    "\\\\ \\hat{\\Sigma}=\\frac{1}{n} \\sum_{i=1}^{n}\\left(X_{i}-A\\mu \\right)\\left(X_{i}- A \\mu \\right)^{\\top} \n",
    "\\\\ \\hat{\\Sigma}=\\frac{1}{n} \\sum_{i=1}^{n}\\left(X_{i}-A \\hat{\\mu} \\right)\\left(X_{i}- A \\hat{\\mu} \\right)^{\\top} \\approx \\sum (\\text{known quantity})\n",
    "\\\\ \\text{In the above equation, we know all the quantities }\n",
    "\\\\ \\text{except } \\hat{\\mu} \\text{ which we can compute from it. Alternative derivation: }\n",
    "\\\\ \\begin{aligned} \\hat{\\boldsymbol{\\mu}}_{k} &=\\frac{1}{n_{k}} \\sum_{t_{i}=k} \\mathbf{x}_{i} \\\\ \\hat{\\mathbf{\\Sigma}}_{k} &=\\frac{1}{n_{k}} \\sum_{t_{i}=k}\\left(\\mathbf{x}_{i}-\\hat{\\boldsymbol{\\mu}}_{k}\\right)\\left(\\mathbf{x}_{i}-\\hat{\\boldsymbol{\\mu}}_{k}\\right)^{T} \\end{aligned}\n",
    "\\\\ \\begin{aligned} \\hat{\\mu_{k}}, \\hat{\\sigma_{k}}^{2} &=\\underset{\\mu_{k}, \\sigma_{k}^{2}}{\\arg \\max } P\\left(x_{1}, x_{2}, \\ldots, x_{n_{k}} | \\mu_{k}, \\sigma_{k}^{2}\\right) \\\\ &=\\underset{\\mu_{k}, \\sigma_{k}^{2}}{\\arg \\max } \\ln \\left(P\\left(x_{1}, x_{2}, \\ldots, x_{n_{k}} | \\mu_{k}, \\sigma_{k}^{2}\\right)\\right) \\end{aligned}\n",
    "\\\\ =\\underset{\\mu_{k}, \\sigma_{k}^{2}}{\\arg \\max } \\sum_{i=1}^{n_{k}} \\ln \\left(P\\left(x_{i} | \\mu_{k}, \\sigma_{k}^{2}\\right)\\right)\n",
    "\\\\ =\\underset{\\mu_{k}, \\sigma_{k}^{2}}{\\arg \\max } \\sum_{i=1}^{n_{k}}-\\frac{\\left(x_{i}-\\mu_{k}\\right)^{2}}{2 \\sigma_{k}^{2}}-\\ln \\left(\\sigma_{k}\\right)-\\frac{1}{2} \\ln (2 \\pi)\n",
    "\\\\ =\\underset{\\mu_{k}, \\sigma_{k}^{2}}{\\arg \\min } \\sum_{i=1}^{n_{k}} \\frac{\\left(x_{i}-\\mu_{k}\\right)^{2}}{2 \\sigma_{k}^{2}}+\\ln \\left(\\sigma_{k}\\right)\n",
    "\\\\ \\min _{\\mu_{k}, \\sigma_{k}^{2}} \\sum_{i=1}^{n_{k}} \\frac{\\left(x_{i}-\\mu_{k}\\right)^{2}}{2 \\sigma_{k}^{2}}+\\ln \\left(\\sigma_{k}\\right)=\\min _{\\sigma_{k}^{2}} \\min _{\\mu_{k}} \\sum_{i=1}^{n_{k}} \\frac{\\left(x_{i}-\\mu_{k}\\right)^{2}}{2 \\sigma_{k}^{2}}+\\ln \\left(\\sigma_{k}\\right)\n",
    "\\\\ \\frac{\\partial}{\\partial \\mu_{k}}\\left(\\sum_{i=1}^{n_{k}} \\frac{\\left(x_{i}-\\mu_{k}\\right)^{2}}{2 \\sigma_{k}^{2}}+\\ln \\left(\\sigma_{k}\\right)\\right)=\\sum_{i=1}^{n_{k}} \\frac{-\\left(x_{i}-\\mu_{k}\\right)}{\\sigma_{k}^{2}}=0 \\Longrightarrow \\hat{\\mu}_{k}=\\frac{1}{n_{k}} \\sum_{i=1}^{n_{k}} x_{i}\n",
    "\\end{array}"
   ]
  },
  {
   "cell_type": "markdown",
   "metadata": {},
   "source": [
    "# 6 Covariance Matrices and Decompositions"
   ]
  },
  {
   "cell_type": "markdown",
   "metadata": {},
   "source": [
    "## a)"
   ]
  },
  {
   "cell_type": "markdown",
   "metadata": {},
   "source": [
    "\\begin{array}\n",
    "\\\\ \\text {The covariance matrix } \\operatorname{Var}(R) \\in \\mathbb{R}^{d \\times d} \\text { for a random variable } R \\in \\mathbb{R}^{d} \\text { with } \\text { mean } \\mu \\text { is }\n",
    "\\\\ \\operatorname{Var}(R)=\\operatorname{Cov}(R, R)=\\mathbb{E}\\left[(R-\\mu)(R-\\mu)^{\\top}\\right]\n",
    "\\\\ \\text {where } \\operatorname{Cov}\\left(R_{i}, R_{j}\\right)=\\mathbb{E}\\left[\\left(R_{i}-\\mu_{i}\\right)\\left(R_{j}-\\mu_{j}\\right)\\right] \\text { and } \\operatorname{Var}\\left(R_{i}\\right)=\\operatorname{Cov}\\left(R_{i}, R_{i}\\right)\n",
    "\\\\ \\text { If the random variable } R \\text { is sampled from the multivariate normal distribution } \\mathcal{N}(\\mu, \\Sigma) \\text { with the } \\text { with the } \\text { the PDF}\n",
    "\\\\ f(x)=\\frac{1}{\\sqrt{(2 \\pi)^{d}|\\Sigma|}} e^{-\\left((x-\\mu)^{\\top} \\Sigma^{-1}(x-\\mu)\\right) / 2}\n",
    "\\\\ \\text { then } \\operatorname{Var}(R)=\\Sigma\n",
    "\\\\ \\text { Given } n \\text { points } X_{1}, X_{2}, \\ldots, X_{n} \\text { sampled from } \\mathcal{N}(\\mu, \\Sigma), \\text { we can estimate } \\Sigma \\text { with the maximum likelihood estinmator }\n",
    "\\\\ \\hat{\\Sigma}=\\frac{1}{n} \\sum_{i=1}^{n}\\left(X_{i}-\\mu\\right)\\left(X_{i}-\\mu\\right)^{\\top}\n",
    "\\\\ \\text { which is also known as the covariance matrix of the sample. }\n",
    "\\\\ \\text {When } n<p \\; (\\text { the number of observations is less than the number of random variables) } \\\\ \\text{ the  empirical estimate of the covariance matrix becomes singular,}\n",
    "\\\\ \\text{i.e. it cannot be inverted to compute the precision matrix. Recall}\n",
    "\\\\ \\operatorname{rank}(A B) \\leq \\min (\\operatorname{rank}(A), \\operatorname{rank}(B))\n",
    "\\\\ \\text { Consider the } n \\times p \\text { matrix of sample data, } y . \\text {he rank of 𝑦  is at most min(𝑛,𝑝).} \n",
    "\\\\ \\text { the rank of } \\sum \\text { should not be larger than the rank y}\n",
    "\\\\ \\text {If } n<p \\rightarrow \\operatorname{rank}(y)<p \\text { in which case rank }(\\sum)<p\n",
    "\\\\ \\text{In addition, clearly the covariance matrix need to be full-rank composed of linearly independent vectors}\n",
    "\\\\ \\text{for it to have an inverse. It must have no zero eigenvalue and a non-zero determinant.} \n",
    "\\\\ \\text {Moreover, in case of diagonal covariance matrix,}\n",
    "\\\\ \\text{note that as long as no } \\sigma \\text { is } 0, \\mathbf{\\Sigma} \\text { is invertible. }\n",
    "\\\\ \\sum = \\begin{bmatrix}\n",
    "\\sigma_1^2&\\quad.\\quad.\\quad.&.\\quad.\\quad.\\quad \\\\\n",
    "...&\\sigma_2^2&... \\\\\n",
    ".&.&. \\\\\n",
    ".&.&. \\\\\n",
    ".&.&. \\\\\n",
    "...&...&\\sigma_n^2\n",
    "\\end{bmatrix}\n",
    "\\end{array}"
   ]
  },
  {
   "cell_type": "markdown",
   "metadata": {},
   "source": [
    "## b)"
   ]
  },
  {
   "cell_type": "markdown",
   "metadata": {},
   "source": [
    "\\begin{array}\n",
    "\\\\ \\text{J.H. Friedman,Regularized discriminant analysis, J. Amer. Statist. Assoc. 84(405) (1989), pp. 165–175.}\n",
    "\\\\ \\text {Friedman } \\text { has presented an alternative approach to covariance-matrix regularization in small- }\n",
    "\\\\ \\text { sample, high-dimensional supervised classification problems with } K \\text { classes, where the covariance }\n",
    "\\\\ \\text { matrices are not assumed to be equal. To estimate the kth class covariance matrix, } \\text {he has proposed }\n",
    "\\\\ \\hat{\\mathbf{\\Sigma}}_{k}(\\lambda, \\gamma)=(1-\\gamma) \\hat{\\mathbf{\\Sigma}}_{k}(\\lambda)+\\frac{\\gamma}{p}\\left[\\operatorname{tr}\\left\\{\\hat{\\mathbf{\\Sigma}}_{k}(\\lambda)\\right\\} \\mathbf{I}_{p}\\right.\n",
    "\\\\ \\hat{\\mathbf{\\Sigma}}_{k}(\\lambda)=\\frac{\\left[(1-\\lambda) \\mathbf{S}_{k}+\\lambda \\mathbf{S}\\right]}{\\left[(1-\\lambda) n_{k}+\\lambda N\\right]}\n",
    "\\\\ \\mathbf{S}_{k}=\\sum_{i=1}^{n_{k}}\\left(\\mathbf{x}_{i k}-\\overline{\\mathbf{x}}_{k}\\right)\\left(\\mathbf{x}_{i k}-\\overline{\\mathbf{x}}_{k}\\right)^{\\prime}, \\mathbf{S}=\\sum_{k=1}^{K} \\mathbf{S}_{k}, 0 \\leq \\lambda, \\gamma \\leq 1\n",
    "\\\\ \\text {For } \\lambda=1, \\hat{\\mathbf{\\Sigma}}_{k}(\\lambda) \\text { reduces to } \\hat{\\mathbf{\\Sigma}}, \\text { the maximum-likelihood estimator of } \\boldsymbol{\\Sigma}, \\text { with }\n",
    "\\\\ \\hat{\\mathbf{\\Sigma}}=\\frac{N-K}{N} \\mathbf{S}_{p}\n",
    "\\\\ \\mathbf{S}_{\\mathrm{RDA}} \\equiv(1-\\gamma) \\hat{\\mathbf{\\Sigma}}+\\frac{\\gamma}{p}[\\operatorname{tr}(\\hat{\\boldsymbol{\\Sigma}})] \\mathbf{I}_{p}\n",
    "\\\\ \\hat{G}_{k}(\\mathbf{x})=\\left(\\mathbf{x}-\\overline{\\mathbf{x}}_{k}\\right)^{\\prime} \\mathbf{S}_{p}^{-1}\\left(\\mathbf{x}-\\overline{\\mathbf{x}}_{k}\\right)-2 \\ln \\hat{\\pi}_{k}\n",
    "\\\\ \\overline{\\mathbf{x}}_{k}=\\frac{1}{n_{k}} \\sum_{i=1}^{n_{k}} \\mathbf{x}_{i k}\n",
    "\\\\ \\mathbf{S}_{p}=\\frac{1}{N-K} \\sum_{k=1}^{K} \\sum_{i=1}^{n_{k}}\\left(\\mathbf{x}_{i k}-\\overline{\\mathbf{x}}_{k}\\right)\\left(\\mathbf{x}_{i k}-\\overline{\\mathbf{x}}_{k}\\right)^{\\prime}\n",
    "\\end{array}"
   ]
  },
  {
   "cell_type": "markdown",
   "metadata": {},
   "source": [
    "## c)"
   ]
  },
  {
   "cell_type": "markdown",
   "metadata": {},
   "source": [
    "\\begin{array}\n",
    "\\\\ \\text {We have a normal distribution } \\mathcal{N}(0, \\Sigma) \\text { with mean } \\mu=0\n",
    "\\\\ \\text {We are considering all vectors of length } 1 ; \\text { i.e., any vector } x \\text { for which }|x|=1\n",
    "\\\\ \\text {The data are generated by a multivariate Gaussian distribution: }\n",
    "\\\\ x_{i} \\stackrel{\\mathrm{iid}}{\\sim} \\mathcal{N}(\\mu = 0, \\Sigma)\n",
    "\\\\ \\text { Then the maximum likelihood estimate of the covariance matrix } \\Sigma \\text { is }\n",
    "\\\\ \\hat{\\Sigma}=\\frac{1}{n} \\sum_{i=1}^{n}\\left(x_{i}-\\overline{x}\\right)\\left(x_{i}-\\overline{x}\\right)^{\\top}=\\frac{1}{n} X^{\\top} X\n",
    "\\\\ \\text { where } \\overline{x} \\text { is the sample average and the matrix } X \\text { is assumed to be zero-mean as before. The }\n",
    "\\\\ \\text { eigenvectors of } \\hat{\\Sigma} \\text { and } X^{\\top} X \\text { are the same since they are positive scalar multiples of each other. }\n",
    "\\\\ \\text { The contours of the multivariate Gaussian density form ellipsoids. The direction of }\n",
    "\\\\ \\text { largest variance (i.e. the first principal component) is the eigenvector corresponding to the smallest }\n",
    "\\\\ \\text { eigenvalue of } \\Sigma^{-1}, \\text { which is the largest eigenvalue of } \\Sigma . \\text { We do not know } \\Sigma \\text { in general, so we use } \\hat{\\Sigma}\n",
    "\\\\ \\text { in its place. Thus the principal component is an eigenvector corresponding to the largest eigenvalue }\n",
    "\\\\ \\text { of } \\hat{\\Sigma} . \\text { As mentioned earlier, this matrix, has the same eigenvalues and eigenvectors as } X^{\\top} X, \\text { so we }\n",
    "\\\\ \\text { arrive at the same solution. }\n",
    "\\\\ \\text { Ordinary least squares minimizes the vertical distance between the fitted line and the data points: }\n",
    "\\\\ \\|y-X u\\|^{2}\n",
    "\\\\ \\text { We show that } \\mathrm{PCA} \\text { can be interpreted as minimizing the perpendicular distance between the }\n",
    "\\\\ \\text { principal component subspace and the data points, so in this sense it is doing the same thing as }\n",
    "\\\\ \\text { total least squares. }\n",
    "\\\\ \\text { The orthogonal projection of a vector } x \\text { onto the subspace spanned by a unit vector } u \\text { equals } u\n",
    "\\\\ \\text { scaled by the scalar projection of } x \\text { onto } u :\n",
    "\\\\ P_{u} x=\\left(u u^{\\top}\\right) x=\\left(x^{\\top} u\\right) u\n",
    "\\\\ \\text { Suppose we want to minimize the total reconstruction error: }\n",
    "\\\\ \\epsilon_{P C A_{-} E r r}(u)=\\sum_{i=1}^{n}\\left\\|x_{i}-P_{u} x_{i}\\right\\|^{2}\n",
    "\\\\ =\\sum_{i=1}^{n}\\left(\\left\\|x_{i}\\right\\|^{2}-\\left\\|P_{u} x_{i}\\right\\|^{2}\\right)\n",
    "\\\\ =\\sum_{i=1}^{n}\\left\\|x_{i}\\right\\|^{2}-\\sum_{i=1}^{n}\\left\\|\\left(x_{i}^{\\top} u\\right) u\\right\\|^{2}\n",
    "\\\\ =\\sum_{i=1}^{n}\\left\\|x_{i}\\right\\|^{2}-\\sum_{i=1}^{n}\\left(x_{i}^{\\top} u\\right)^{2}\n",
    "\\\\ \\text { where it holds by the Pythagorean theorem }\n",
    "\\\\ \\left\\|x-P_{u} x\\right\\|^{2}+\\left\\|P_{u} x\\right\\|^{2}=\\|x\\|^{2}\n",
    "\\\\ \\text { since } x-P_{u} x \\perp P_{u} x . \\text { Then since the first term } \\sum_{i}\\left\\|x_{i}\\right\\|^{2} \\text { is constant with respect to } u, \\text { we have }\n",
    "\\\\ \\underset{u}{\\arg \\min } \\epsilon_{P C A-E r r}(u)=\\underset{u}{\\arg \\min } \\text { constant }-\\epsilon_{P C A_{-} V a r}(u)=\\underset{u}{\\arg \\max } \\epsilon_{P C A-V a r}(u)\n",
    "\\\\ \\text { Hence minimizing reconstruction error is equivalent to maximizing projected variance. }\n",
    "\\end{array}"
   ]
  },
  {
   "cell_type": "markdown",
   "metadata": {},
   "source": [
    "# 7 Gaussian Classifiers for Digits and Spam"
   ]
  },
  {
   "cell_type": "markdown",
   "metadata": {},
   "source": [
    "## (a)"
   ]
  },
  {
   "cell_type": "code",
   "execution_count": 16,
   "metadata": {},
   "outputs": [
    {
     "name": "stdout",
     "output_type": "stream",
     "text": [
      "\n",
      "loaded mnist dataset!\n",
      "Class is initialized!\n",
      "Dataset splitted!\n",
      "0\n",
      "1\n",
      "2\n",
      "3\n",
      "4\n",
      "5\n",
      "6\n",
      "7\n",
      "8\n",
      "9\n"
     ]
    }
   ],
   "source": [
    "data_mnist = comp(\"mnist\", val_size=100)\n",
    "data_mnist.MLE()"
   ]
  },
  {
   "cell_type": "markdown",
   "metadata": {},
   "source": [
    "## (b)"
   ]
  },
  {
   "cell_type": "code",
   "execution_count": 17,
   "metadata": {},
   "outputs": [
    {
     "name": "stdout",
     "output_type": "stream",
     "text": [
      "Dataset splitted!\n"
     ]
    },
    {
     "data": {
      "image/png": "[encoded data removed]",
      "text/plain": [
       "<Figure size 216x216 with 1 Axes>"
      ]
     },
     "metadata": {
      "needs_background": "light"
     },
     "output_type": "display_data"
    },
    {
     "name": "stdout",
     "output_type": "stream",
     "text": [
      "Error rate= 4.556000\n"
     ]
    },
    {
     "data": {
      "image/png": "[encoded data removed]",
      "text/plain": [
       "<Figure size 1080x504 with 20 Axes>"
      ]
     },
     "metadata": {
      "needs_background": "light"
     },
     "output_type": "display_data"
    }
   ],
   "source": [
    "data_mnist.LDA()"
   ]
  },
  {
   "cell_type": "markdown",
   "metadata": {},
   "source": [
    "## (c)"
   ]
  },
  {
   "cell_type": "code",
   "execution_count": 18,
   "metadata": {},
   "outputs": [
    {
     "name": "stdout",
     "output_type": "stream",
     "text": [
      "QDA\n"
     ]
    }
   ],
   "source": [
    "data_mnist.QDA()"
   ]
  },
  {
   "cell_type": "markdown",
   "metadata": {},
   "source": [
    "## (d)"
   ]
  },
  {
   "cell_type": "code",
   "execution_count": 19,
   "metadata": {},
   "outputs": [
    {
     "name": "stdout",
     "output_type": "stream",
     "text": [
      "\n",
      "loaded spam dataset!\n",
      "Class is initialized!\n",
      "0\n",
      "1\n",
      "train error is:\n",
      "0    0.290023\n",
      "dtype: float64\n"
     ]
    },
    {
     "data": {
      "image/png": "[encoded data removed]",
      "text/plain": [
       "<Figure size 432x288 with 1 Axes>"
      ]
     },
     "metadata": {
      "needs_background": "light"
     },
     "output_type": "display_data"
    },
    {
     "data": {
      "image/png": "[encoded data removed]",
      "text/plain": [
       "<Figure size 432x288 with 1 Axes>"
      ]
     },
     "metadata": {
      "needs_background": "light"
     },
     "output_type": "display_data"
    },
    {
     "name": "stdout",
     "output_type": "stream",
     "text": [
      "QDA\n"
     ]
    }
   ],
   "source": [
    "data_spam = comp(\"spam\", val_size=0.2)\n",
    "trainerror, testerror = data_spam.fit()\n",
    "data_spam.plot_bivariate_gaussians()\n",
    "data_spam.plot_proj_2D()\n",
    "data_spam.QDA()\n",
    "#data_spam.predict_kaggle(5000, C=spam_C)\n",
    "#data_mnist.predict_kaggle(10000, C=mnist_C)"
   ]
  },
  {
   "cell_type": "code",
   "execution_count": 14,
   "metadata": {},
   "outputs": [
    {
     "name": "stdout",
     "output_type": "stream",
     "text": [
      "Populating the interactive namespace from numpy and matplotlib\n",
      "Finished loading libraries\n",
      "Python Class Ready!\n"
     ]
    }
   ],
   "source": [
    "from __future__ import division\n",
    "import os\n",
    "from scipy import io\n",
    "import numpy as np\n",
    "import matplotlib.pyplot as plt\n",
    "import sys, itertools\n",
    "import pandas as pd\n",
    "import matplotlib.cm as cm\n",
    "from mpl_toolkits.mplot3d import Axes3D\n",
    "import random\n",
    "import math\n",
    "import matplotlib.pyplot as plt\n",
    "%pylab inline\n",
    "%matplotlib inline\n",
    "import warnings\n",
    "warnings.filterwarnings(\"ignore\")\n",
    "from scipy.stats import norm\n",
    "from operator import itemgetter\n",
    "from itertools import groupby\n",
    "from numpy import linalg as LA\n",
    "#LA.norm(a, 2)\n",
    "\n",
    "print('Finished loading libraries')\n",
    "\n",
    "class comp(object):\n",
    "\n",
    "    def __init__(self, dataset_name, val_size, seed=1):\n",
    "        self.dataset_name = dataset_name\n",
    "        self.val_size = val_size\n",
    "        self.data = None\n",
    "        self.seed = seed\n",
    "        self.random = np.random.RandomState(seed)\n",
    "        self.labelcol = 2\n",
    "        self.load_data(dataset_name)\n",
    "        print(\"Class is initialized!\")\n",
    "\n",
    "    def split(self, data, labels, val_size):\n",
    "        num_items = len(data)\n",
    "        assert num_items == len(labels)\n",
    "        assert val_size >= 0\n",
    "        if val_size < 1.0:\n",
    "            val_size = int(num_items * val_size)\n",
    "        train_size = num_items - val_size\n",
    "        idx = self.random.permutation(num_items)\n",
    "        data_train = data[idx][:train_size]\n",
    "        label_train = labels[idx][:train_size]\n",
    "        data_val = data[idx][train_size:]\n",
    "        label_val = labels[idx][train_size:]\n",
    "        print(\"Dataset splitted!\")\n",
    "        return data_train, data_val, label_train, label_val\n",
    "\n",
    "    def load_data(self,dataset_name):\n",
    "        self.data = io.loadmat(\"data/%s_data.mat\" % dataset_name)\n",
    "        print(\"\\nloaded %s dataset!\" % dataset_name)\n",
    "\n",
    "    def train(self, X_train, Y_train, C=1.0):\n",
    "        model = svm.SVC(kernel='linear', C=C)\n",
    "        model.fit(X_train, Y_train)\n",
    "        return model\n",
    "\n",
    "    def train_all_sizes(self, input_train_sizes):\n",
    "        print(self.data)\n",
    "        training_data = self.data[\"training_data\"] \n",
    "        training_labels = self.data['training_labels']\n",
    "        X_train, X_val, Y_train, Y_val = self.split(training_data,\n",
    "                                                    training_labels,\n",
    "                                                    self.val_size)\n",
    "        \n",
    "        print(X_train.shape, X_val.shape, self.val_size)\n",
    "        train_sizes, train_accuracies, val_accuracies = [], [], []\n",
    "        end_training = False\n",
    "        for train_size in input_train_sizes:\n",
    "            if train_size > X_train.shape[0]:\n",
    "                train_size = X_train.shape[0]\n",
    "                end_training = True\n",
    "            model = self.train(X_train[:train_size], Y_train[:train_size])\n",
    "            Y_train_prediction = model.predict(X_train[:train_size])\n",
    "            train_accuracy = metrics.accuracy_score(Y_train[:train_size], Y_train_prediction)\n",
    "            train_sizes.append(train_size)\n",
    "            train_accuracies.append(train_accuracy)\n",
    "            Y_val_prediction = model.predict(X_val)\n",
    "            val_accuracy = metrics.accuracy_score(Y_val, Y_val_prediction)\n",
    "            val_accuracies.append(val_accuracy)\n",
    "            print(\"train_size\", train_size,\n",
    "                  \"train accuracy\", train_accuracy,\n",
    "                  \"val accuracy\", val_accuracy)\n",
    "            if end_training:\n",
    "                break\n",
    "        return train_sizes, train_accuracies, val_accuracies\n",
    "\n",
    "    def predict_kaggle(self, train_size, C=1.0):\n",
    "        num_examples = self.data['training_data'].shape[0]\n",
    "        val_size = num_examples - train_size\n",
    "        training_data, _, training_labels, _ = self.split(self.data['training_data'],\n",
    "                                                          self.data['training_labels'],\n",
    "                                                          val_size)\n",
    "        test_data = self.data['test_data']\n",
    "        model = self.train(training_data, training_labels, C=C)\n",
    "        test_labels = model.predict(test_data)\n",
    "\n",
    "        filename = os.path.join(os.path.split(__file__)[0], '%s_solution.csv' % self.dataset_name)\n",
    "        f = open(filename, 'w')\n",
    "        f.write(\"Id,Category\\n\")\n",
    "        for i, y in enumerate(test_labels):\n",
    "            f.write(str(i + 1) + ',' + str(y) + '\\n')\n",
    "        f.close()\n",
    "\n",
    "\n",
    "    def plot_result(self, train_sizes, train_accuracies, val_accuracies, title, filename):\n",
    "        plt.figure()\n",
    "        plt.title(title)\n",
    "        plt.xlabel(\"Number of Examples\")\n",
    "        plt.ylabel(\"Accuracy\")\n",
    "        plt.plot(train_sizes, train_accuracies, label=\"Training Set\")\n",
    "        plt.plot(train_sizes, val_accuracies, label=\"Validation Set\")\n",
    "        plt.legend()\n",
    "        plt.tight_layout()\n",
    "        #plt.savefig(os.path.join(os.path.split(__file__)[0], filename))\n",
    "\n",
    "\n",
    "    def fit(self):\n",
    "        # Function estimates the LDA parameters\n",
    "        def estimate_params(data):\n",
    "            # group data by label column\n",
    "            #grouped = data.groupby(self.data.ix[:,self.labelcol])\n",
    "\n",
    "            # calculate means for each class\n",
    "            means = {}\n",
    "            for c in self.classes:\n",
    "                #means[c] = np.array(self.drop_col(self.classwise[c], self.labelcol).mean(axis = 0))\n",
    "                means[c] = np.array(data.mean(axis = 0))\n",
    "\n",
    "            # calculate the overall mean of all the data\n",
    "            #print(\"here\")\n",
    "            #print(data.shape)\n",
    "            #overall_mean = np.array(self.drop_col(data, self.labelcol).mean(axis = 0))\n",
    "            overall_mean = np.array(data.mean(axis = 0))\n",
    "            #print(overall_mean.shape)\n",
    "            #overall_mean = overall_mean[0:(len(overall_mean)-1),]\n",
    "            # calculate between class covariance matrix\n",
    "            # S_B = \\sigma{N_i (m_i - m) (m_i - m).T}\n",
    "            #S_B = np.zeros((data.shape[1] - 1, data.shape[1] - 1))\n",
    "            S_B = np.zeros((data.shape[1], data.shape[1]))\n",
    "            #print(S_B.shape)\n",
    "            for c in means.keys():\n",
    "                #print(len(self.classwise[c]))\n",
    "                #print(means[c])\n",
    "                #print(len(overall_mean))\n",
    "                meansC = means[c]\n",
    "                #print(meansC.shape)\n",
    "                #meansC = meansC[0:(len(meansC)-1),]\n",
    "                #print(meansC.shape)\n",
    "                #print(np.outer((meansC - overall_mean), (meansC - overall_mean)))\n",
    "                S_B += np.multiply(len(self.classwise[c]),np.outer((meansC - overall_mean), (meansC - overall_mean)))\n",
    "            #print(S_B)\n",
    "            # calculate within class covariance matrix\n",
    "            # S_W = \\sigma{S_i}\n",
    "            # S_i = \\sigma{(x - m_i) (x - m_i).T}\n",
    "            S_W = np.zeros(S_B.shape) \n",
    "            for c in self.classes: \n",
    "                #tmp = np.subtract(self.drop_col(self.classwise[c], self.labelcol).T, np.expand_dims(means[c], axis=1))\n",
    "                tmp = np.subtract(data.T, np.expand_dims(means[c], axis=1))\n",
    "                S_W = np.add(np.dot(tmp, tmp.T), S_W)\n",
    "\n",
    "            # objective : find eigenvalue, eigenvector pairs for inv(S_W).S_B\n",
    "            mat = np.dot(np.linalg.pinv(S_W), S_B)\n",
    "            eigvals, eigvecs = np.linalg.eig(mat)\n",
    "            eiglist = [(eigvals[i], eigvecs[:, i]) for i in range(len(eigvals))]\n",
    "\n",
    "            # sort the eigvals in decreasing order\n",
    "            eiglist = sorted(eiglist, key = lambda x : x[0], reverse = True)\n",
    "\n",
    "            # take the first num_dims eigvectors\n",
    "            w = np.array([eiglist[i][1] for i in range(2)])\n",
    "\n",
    "            self.w = w\n",
    "            self.means = means\n",
    "            return\n",
    "\n",
    "        \n",
    "        \n",
    "        tl = pd.DataFrame.from_dict(self.data['training_labels'])\n",
    "        #print(tl.shape)\n",
    "        tl = tl.iloc[:,0]\n",
    "\n",
    "        dataPD = pd.DataFrame(self.data['training_data'])\n",
    "\n",
    "        grouped = dataPD.groupby(tl)\n",
    "        self.classes = [c for c in grouped.groups.keys()] #[0, 1, 2, 3, 4, 5, 6, 7, 8, 9]\n",
    "\n",
    "        self.classwise = {} \n",
    "        for c in self.classes:\n",
    "            #print(c)\n",
    "            self.classwise[c] = grouped.get_group(c)\n",
    "\n",
    "        traindata = dataPD#self.data[\"training_data\"] \n",
    "        testdata = pd.DataFrame(self.data['test_data'])#self.data[\"test_data\"]\n",
    "        \n",
    "        \n",
    "        # estimate the LDA parameters\n",
    "        estimate_params(traindata)\n",
    "        # perform classification on test set\n",
    "\n",
    "        self.gaussian_modeling()\n",
    "        # append the training and test error rates for this iteration\n",
    "        #print(type(self.calculate_score_gaussian(traindata)))\n",
    "        #print(type(float(traindata.shape[0])))\n",
    "        #print(type(traindata.shape[0]))\n",
    "        trainerror = self.calculate_score_gaussian(traindata) / float(traindata.shape[0])\n",
    "        print(\"train error is:\")\n",
    "        print(trainerror)\n",
    "        #testerror = self.calculate_score_gaussian_test(testdata) / float(testdata.shape[0])\n",
    "        testerror=0\n",
    "        #print(\"test error is:\")\n",
    "        #print(testerror)\n",
    "\n",
    "        return trainerror, testerror\n",
    "\n",
    "    def drop_col(self, data, col):\n",
    "        return data.drop(data.columns[[col]], axis = 1)\n",
    "    \n",
    "    def gaussian_modeling(self):\n",
    "        self.priors = {}\n",
    "        self.gaussian_means = {}\n",
    "        self.gaussian_cov = {}\n",
    "\n",
    "        for c in self.means.keys():\n",
    "            print(c)\n",
    "            #inputs = self.drop_col(self.classwise[c], self.labelcol)\n",
    "            inputs = pd.DataFrame(self.data['training_data'])\n",
    "            #if c == 0:\n",
    "            #    self.w = self.w[0:,:-1]\n",
    "            #print(self.w.shape)\n",
    "            #print(inputs.shape)\n",
    "            proj = np.dot(self.w, inputs.T).T\n",
    "            #print(proj)\n",
    "            #print(inputs.shape)\n",
    "            dataPD = pd.DataFrame(self.data['training_data'])\n",
    "            self.priors[c] = inputs.shape[0] / float(dataPD.shape[0])\n",
    "            self.gaussian_means[c] = np.mean(proj, axis = 0)\n",
    "            self.gaussian_cov[c] = np.cov(proj, rowvar=False)\n",
    "            \n",
    "    def calculate_score_gaussian(self, data):\n",
    "        classes = sorted(list(self.means.keys()))\n",
    "        #inputs = self.drop_col(data, self.labelcol)\n",
    "        inputs = pd.DataFrame(self.data['training_data'])\n",
    "        # project the inputs\n",
    "        proj = np.dot(self.w, inputs.T).T\n",
    "        # calculate the likelihoods for each class based on the gaussian models\n",
    "        likelihoods = np.array([[self.priors[c] * self.pdf([x[ind] for ind in range(len(x))], self.gaussian_means[c], self.gaussian_cov[c]) for c in classes] for x in proj])\n",
    "        # assign prediction labels based on the highest probability\n",
    "        labels = np.argmax(likelihoods, axis = 1)\n",
    "        #errors = np.sum(labels != data.ix[:, self.labelcol])\n",
    "        tl = pd.DataFrame.from_dict(self.data['training_labels'])\n",
    "        #print(labels.shape)\n",
    "        #print(len(tl))\n",
    "        labels = pd.DataFrame(labels)\n",
    "        errors = np.sum(labels != tl)\n",
    "        #print(type(errors))\n",
    "        return errors\n",
    "    \n",
    "    def calculate_score_gaussian_test(self, data):\n",
    "        classes = sorted(list(self.means.keys()))\n",
    "        #inputs = self.drop_col(data, self.labelcol)\n",
    "        inputs = pd.DataFrame(self.data['test_data'])\n",
    "        # project the inputs\n",
    "        proj = np.dot(self.w, inputs.T).T\n",
    "        # calculate the likelihoods for each class based on the gaussian models\n",
    "        likelihoods = np.array([[self.priors[c] * self.pdf([x[ind] for ind in \n",
    "                                                            range(len(x))], self.gaussian_means[c], \n",
    "                               self.gaussian_cov[c]) for c in \n",
    "                        classes] for x in proj])\n",
    "        # assign prediction labels based on the highest probability\n",
    "        labels = np.argmax(likelihoods, axis = 1)\n",
    "        #errors = np.sum(labels != data.ix[:, self.labelcol])\n",
    "        tl = pd.DataFrame.from_dict(self.data['training_labels'])\n",
    "        #print(labels.shape)\n",
    "        #print(len(tl))\n",
    "        labels = pd.DataFrame(labels)\n",
    "\n",
    "        errors = np.sum(labels != tl)\n",
    "        #print(type(errors))\n",
    "        return errors\n",
    "    \n",
    "    def pdf(self, point, mean, cov):\n",
    "        cons = 1./((2*np.pi)**(len(point)/2.)*np.linalg.det(cov)**(-0.5))\n",
    "        try:\n",
    "            return cons*np.exp(-np.dot(np.dot((point-mean),np.linalg.inv(cov)),(point-mean).T)/2.)\n",
    "        except:\n",
    "            return np.exp(0)\n",
    "\n",
    "    def plot_bivariate_gaussians(self):\n",
    "        classes = list(self.means.keys())\n",
    "        colors = cm.rainbow(np.linspace(0, 1, len(classes)))\n",
    "        plotlabels = {classes[c] : colors[c] for c in range(len(classes))}\n",
    "\n",
    "        fig = plt.figure()\n",
    "        ax3D = fig.add_subplot(111, projection='3d')\n",
    "        for c in self.means.keys():\n",
    "            data = np.random.multivariate_normal(self.gaussian_means[c], \n",
    "                                                 self.gaussian_cov[c], size=100)\n",
    "            pdf = np.zeros(data.shape[0])\n",
    "            cons = 1./((2*np.pi)**(data.shape[1]/2.)*np.linalg.det(self.gaussian_cov[c])**(-0.5))\n",
    "            X, Y = np.meshgrid(data.T[0], data.T[1])\n",
    "            def pdf(point):\n",
    "                try:\n",
    "                    return cons*np.exp(-np.dot(np.dot((point-self.gaussian_means[c]),np.linalg.inv(self.gaussian_cov[c])),(point-self.gaussian_means[c]).T)/2.)\n",
    "                except:\n",
    "                    return np.exp(0)\n",
    "\n",
    "            zs = np.array([pdf(np.array(ponit)) for ponit in zip(np.ravel(X), np.ravel(Y))])\n",
    "            Z = zs.reshape(X.shape)\n",
    "            surf = ax3D.plot_surface(X, Y, Z, rstride=1, cstride=1, \n",
    "                                       color=plotlabels[c], linewidth=0, \n",
    "                                       antialiased=False)\n",
    "        plt.show()\n",
    "\n",
    "    def plot_proj_1D(self):\n",
    "        data =  pd.DataFrame(self.data['training_data'])\n",
    "        classes = list(self.means.keys())\n",
    "        colors = cm.rainbow(np.linspace(0, 1, len(classes)))\n",
    "        plotlabels = {classes[c] : colors[c] for c in range(len(classes))}\n",
    "\n",
    "        fig = plt.figure()\n",
    "        for i, row in data.iterrows():\n",
    "            proj = np.dot(self.w, row)\n",
    "            plt.scatter(proj, np.random.normal(0,1,1)+0)\n",
    "        plt.show()\n",
    "\n",
    "    def plot_proj_2D(self):\n",
    "        data =  pd.DataFrame(self.data['training_data'])\n",
    "        classes = list(self.means.keys())\n",
    "        colors = cm.rainbow(np.linspace(0, 1, len(classes)))\n",
    "        plotlabels = {classes[c] : colors[c] for c in range(len(classes))}\n",
    "\n",
    "        fig = plt.figure()\n",
    "        for i, row in data.iterrows():\n",
    "            proj = np.dot(self.w, row)\n",
    "            plt.scatter(proj[0], proj[1])\n",
    "        plt.show()\n",
    "    \n",
    "\n",
    "        \n",
    "    def LDA(self):\n",
    "#digits = datasets.load_digits()\n",
    "#X_train, X_test, Y_train, Y_test = train_test_split(digits.data, digits.target, test_size=0.4, random_state=4)\n",
    "        training_data = self.data['training_data'] \n",
    "        training_labels = self.data['training_labels']\n",
    "        X_train, X_test, Y_train, Y_test = self.split(training_data,training_labels,self.val_size)\n",
    "        #X_train.shape\n",
    "        from sklearn.naive_bayes import GaussianNB\n",
    "        helper = GaussianNB()\n",
    "        helper.fit(X_train, Y_train)\n",
    "        classes = helper.classes_\n",
    "        priors = helper.class_prior_\n",
    "#print(priors)\n",
    "        posteriors=[]\n",
    "        def displaychar(image):\n",
    "            plt.imshow(np.reshape(image, (8,8)), cmap=plt.cm.gray)\n",
    "            plt.axis('off')\n",
    "        def get_examples_for_class(class_id):\n",
    "            examples = []\n",
    "            for i, example in enumerate(X_train):\n",
    "                if Y_train[i]==class_id:\n",
    "                    examples.append(example)\n",
    "        \n",
    "            examples = np.matrix(examples)\n",
    "            return examples\n",
    "        for klass in classes:\n",
    "            examples = get_examples_for_class(klass)\n",
    "            mean = np.array(examples.mean(0))[0]\n",
    "            cov = np.cov(examples.T)\n",
    "            p_x = multivariate_normal(mean=mean, cov=cov)\n",
    "            posteriors.append(p_x)\n",
    "\n",
    "#choose a random point from the test data\n",
    "#print(X_test)\n",
    "#print(X_test.shape)\n",
    "        x = X_test[4,0:] #random.choice (X_test[0:,0])\n",
    "#print(x)\n",
    "\n",
    "        bayes_probs = []\n",
    "        for klass in classes:\n",
    "    #print(posteriors[klass])\n",
    "            prob = [klass,(priors[klass] * np.dot(posteriors[klass],norm.pdf(x)))]\n",
    "            bayes_probs.append(prob)\n",
    "#print(bayes_probs)\n",
    "\n",
    "        prediction = max(bayes_probs, key= lambda a: a[1].any())\n",
    "#print(digits.target_names[prediction[0]])\n",
    "\n",
    "\n",
    "        plt.figure(1, figsize=(3, 3))\n",
    "#print(x)\n",
    "        plt.imshow(x.reshape(28,28), cmap=plt.cm.gray_r, interpolation='nearest')\n",
    "        plt.show()\n",
    "\n",
    "\n",
    "        Y = []\n",
    "        for x in X_test:\n",
    "            bayes_probs = []\n",
    "            for klass in classes:\n",
    "                prob = [klass, priors[klass] * np.dot(posteriors[klass],norm.pdf(x))]\n",
    "                bayes_probs.append(prob)\n",
    "            prediction = max(bayes_probs, key= lambda a: a[1])\n",
    "            Y.append(prediction[0])\n",
    "\n",
    "    \n",
    "        errors = (Y_test != Y).sum()\n",
    "        total = X_test.shape[0]\n",
    "        print(\"Error rate= %f\" % ((errors/float(self.val_size)/20)))\n",
    "\n",
    "\n",
    "\n",
    "        indicies = np.array(np.where((Y_test != Y)==True))[0]\n",
    "\n",
    "        index = 0\n",
    "        rows = len(indicies)%10\n",
    "        cols = 10\n",
    "        dv = 0\n",
    "\n",
    "        plt.figure(figsize=(15,7))\n",
    "        for i in indicies:\n",
    "            index += 1\n",
    "            try:\n",
    "                plt.subplot(rows, cols, index)\n",
    "                displaychar(X_test[i])\n",
    "                print(X_test[i])\n",
    "                plt.title('exp:%i, act:%i' %( Y[i],Y_test[i]), fontsize = 10)\n",
    "            except:\n",
    "                dv += 1\n",
    "\n",
    "\n",
    "    def MLE(self):\n",
    "        \n",
    "        training_data = self.data['training_data'] \n",
    "        training_labels = self.data['training_labels']\n",
    "        X_train, X_test, Y_train, Y_test = self.split(training_data,training_labels,self.val_size)\n",
    "        #X_test = X_train\n",
    "        #Y_test = Y_train\n",
    "        \n",
    "        tl = pd.DataFrame.from_dict(Y_test)\n",
    "        tl = tl.iloc[:,0]\n",
    "        dataPD = pd.DataFrame(X_test)\n",
    "        grouped = dataPD.groupby(tl)\n",
    "        classes = [c for c in grouped.groups.keys()] \n",
    "        overall_mean = np.array(X_test.mean(axis = 0))\n",
    "        S_B = np.zeros((X_test.shape[1], X_test.shape[1]))\n",
    "        classwise = {}             \n",
    "        means = {}\n",
    "        for c in classes:\n",
    "            print(c)\n",
    "            means[c] = np.array(X_test.mean(axis = 0))\n",
    "            meansC = means[c]\n",
    "            classwise[c] = grouped.get_group(c)\n",
    "            S_B += np.multiply(len(classwise[c]),np.outer((meansC - overall_mean), (meansC - overall_mean)))\n",
    "        \n",
    "        S_W = np.zeros(S_B.shape) \n",
    "        for c in classes: \n",
    "            tmp = np.subtract(X_test.T, np.expand_dims(means[c], axis=1))\n",
    "            S_W = np.add(np.dot(tmp, tmp.T), S_W)\n",
    "        \n",
    "        mat = np.dot(np.linalg.pinv(S_W), S_B)\n",
    "        #print(mat)\n",
    "        eigvals, eigvecs = np.linalg.eig(mat)\n",
    "        eiglist = [(eigvals[i], eigvecs[:, i]) for i in range(len(eigvals))]\n",
    "        eiglist = sorted(eiglist, key = lambda x : x[0], reverse = True)\n",
    "        w = np.array([eiglist[i][1] for i in range(2)])\n",
    "        x = X_test\n",
    "        max_val = max_val_location = None\n",
    "        mu_set={}\n",
    "        sd_set={}\n",
    "        cov_set = {}\n",
    "        dv = 0\n",
    "        for c in classes:\n",
    "            proj = np.dot(w, X_train.T).T\n",
    "            if c <9:\n",
    "                sd_set[c] = np.std(proj, axis = 0)\n",
    "                mu_set[c] = np.mean(means[c], axis = 0)\n",
    "                cov_set[c] = np.cov(proj, rowvar=False)\n",
    "            else:\n",
    "                dv += 1\n",
    "        #print(proj)\n",
    "        try:        \n",
    "            for i in sd_set:\n",
    "                ll_array = []   \n",
    "                for j in mu_set:\n",
    "                    temp_mm = 0\n",
    "                    for k in x:\n",
    "                        try:\n",
    "                            if math.isnan(np.log(norm.pdf(k, j, i))):\n",
    "                                dv += 1\n",
    "                                temp_mm += 0\n",
    "                            else:\n",
    "                                temp_mm += np.log(norm.pdf(k, j, i))\n",
    "                            ll_array.append(temp_mm)\n",
    "                            if (max_val is None):\n",
    "                                max_val = max(ll_array)\n",
    "                            elif max(ll_array) > max_val:\n",
    "                                max_val = max(ll_array)\n",
    "                                max_val_location = j\n",
    "                        except:\n",
    "                            dv += 1\n",
    "        except:\n",
    "            dv+=1\n",
    "        try:\n",
    "            for c in classes:\n",
    "                plt.plot(mu_set[c], ll_array[c], label=\"sd: %.1f\" % i)\n",
    "                print(c)\n",
    "                print(\"The max LL for sd %.2f is %.2f\" % (i, max(ll_array)))    \n",
    "                plt.axvline(x=max_val_location, color='black', ls='-.')\n",
    "                plt.legend(loc='lower left')\n",
    "                plt.title(\"Maximim Likelihood Functions\")\n",
    "                plt.xlabel(\"Mean Estimate\")\n",
    "                plt.ylabel(\"Log Likelihood\")\n",
    "                plt.axis('auto')\n",
    "                plt.show()\n",
    "        except:\n",
    "            dv+=1\n",
    "        \n",
    "    def QDA(self):\n",
    "        print(\"QDA\")\n",
    "\n",
    "    def substract_mean(self, group_point):\n",
    "        for i, a in enumerate(group_point):\n",
    "            group_point[i] = group_point[i] - self.mean_global[i]\n",
    "        \n",
    "        return group_point\n",
    "\n",
    "    #--gets the covariance matrix for a dataset/group (t(x).x/len(x))\n",
    "    def get_cov_matrix(self, matrix):\n",
    "        cov_mat = []\n",
    "        for i in zip(*matrix):\n",
    "            l = []\n",
    "            for e in zip(*matrix):\n",
    "                l.append(self.funcs_.dot(i, e)/len(matrix))\n",
    "            cov_mat.append(l)\n",
    "        return cov_mat\n",
    "\n",
    "    #training the model\n",
    "    def trainQDA(self):\n",
    "        self.mean_sets = {}\n",
    "        self.covariance_sets = {}\n",
    "        self.lens ={}\n",
    "        self.probability_vector = {}\n",
    "        \n",
    "        self.mean_global = self.funcs_.mean_nm(self.x, axis=0)\n",
    "        for k, v in self.groups.iteritems():\n",
    "            self.lens[k] = len(self.groups[k])\n",
    "            self.probability_vector[k] = self.lens[k]/self.len_all\n",
    "            self.mean_sets[k] = self.funcs_.mean_nm(self.groups[k], axis=0)\n",
    "            #mean correcting each set i.e. set - global mean\n",
    "            self.groups[k] = map(self.substract_mean, self.groups[k])\n",
    "            self.covariance_sets[k] = self.get_cov_matrix(self.groups[k])\n",
    "\n",
    "        #here is the major difference between QDA and LDA .. no calculation for the\n",
    "        #global pooled covariance matrix, but each class has its own pooled\n",
    "        #covariance matrix.\n",
    "        for k, v in self.covariance_sets.iteritems():\n",
    "            self.covariance_sets[k] = self.funcs_.inv_(self.covariance_sets[k])\n",
    "    \n",
    "    #prediction or discrimnant function\n",
    "    #prediction function for QDA is a little bit different then that of LDA :-)\n",
    "    def predict(self, v, key_only=True):\n",
    "        difference_vectors = lambda n,m: n-m\n",
    "        predictions  = {}\n",
    "        for a in self.group_names:\n",
    "            predictions[a] = self.funcs_.dot(self.funcs_.prod_2(self.funcs_.sclr_prod_(-0.5, map(difference_vectors, v, self.mean_sets[a])), self.covariance_sets[a]), map(difference_vectors, v, self.mean_sets[a])) - \\\n",
    "                             (0.5*math.log(self.funcs_.det_(self.covariance_sets[a]))) + math.log(self.probability_vector[a])\n",
    "        if key_only:\n",
    "            return max(predictions, key=predictions.get)\n",
    "        else:\n",
    "            return predictions\n",
    "\n",
    "if __name__ == \"__main__\":\n",
    "    print(\"Python Class Ready!\")"
   ]
  },
  {
   "cell_type": "code",
   "execution_count": 15,
   "metadata": {},
   "outputs": [],
   "source": [
    "def predict_kaggle(name, training_data, training_labels, test_data, C=1.0):\n",
    "    model = train(training_data, training_labels, C=C)\n",
    "    test_labels = model.predic\n",
    "    t(test_data)\n",
    "\n",
    "    filename = os.path.join(os.path.split(__file__)[0], '%s_solution.csv' % name)\n",
    "    f = open(filename, 'w')\n",
    "    f.write(\"Id,Category\\n\")\n",
    "    for i, y in enumerate(test_labels):\n",
    "        f.write(str(i + 1) + ',' + str(y) + '\\n')\n",
    "    f.close()"
   ]
  }
 ],
 "metadata": {
  "kernelspec": {
   "display_name": "Python 3",
   "language": "python",
   "name": "python3"
  },
  "language_info": {
   "codemirror_mode": {
    "name": "ipython",
    "version": 3
   },
   "file_extension": ".py",
   "mimetype": "text/x-python",
   "name": "python",
   "nbconvert_exporter": "python",
   "pygments_lexer": "ipython3",
   "version": "3.7.1"
  }
 },
 "nbformat": 4,
 "nbformat_minor": 2
}
